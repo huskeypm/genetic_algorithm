{
 "cells": [
  {
   "cell_type": "code",
   "execution_count": 1,
   "metadata": {},
   "outputs": [],
   "source": [
    "%load_ext autoreload\n",
    "%autoreload 2\n",
    "import matplotlib.pylab as plt"
   ]
  },
  {
   "cell_type": "markdown",
   "metadata": {},
   "source": [
    "### Check runner "
   ]
  },
  {
   "cell_type": "code",
   "execution_count": 2,
   "metadata": {},
   "outputs": [],
   "source": [
    "import runner"
   ]
  },
  {
   "cell_type": "code",
   "execution_count": 3,
   "metadata": {},
   "outputs": [],
   "source": [
    "newDict = runner.simulation()"
   ]
  },
  {
   "cell_type": "code",
   "execution_count": 4,
   "metadata": {},
   "outputs": [
    {
     "data": {
      "text/plain": [
       "[<matplotlib.lines.Line2D at 0x7ff2c88b50b8>]"
      ]
     },
     "execution_count": 4,
     "metadata": {},
     "output_type": "execute_result"
    },
    {
     "data": {
      "image/png": "[encoded data removed]",
      "text/plain": [
       "<matplotlib.figure.Figure at 0x7ff2c88b5080>"
      ]
     },
     "metadata": {},
     "output_type": "display_data"
    }
   ],
   "source": [
    "data = newDict['data']\n",
    "plt.plot(data['t'],data['Nai'])\n",
    "plt.plot(data['t'],data['Cai'])"
   ]
  },
  {
   "cell_type": "markdown",
   "metadata": {},
   "source": [
    "### CHeck main IO routines "
   ]
  },
  {
   "cell_type": "code",
   "execution_count": 5,
   "metadata": {},
   "outputs": [],
   "source": [
    "import analyze"
   ]
  },
  {
   "cell_type": "code",
   "execution_count": 6,
   "metadata": {},
   "outputs": [],
   "source": [
    "dataSub = analyze.GetData(data,\"Nai\")"
   ]
  },
  {
   "cell_type": "code",
   "execution_count": 7,
   "metadata": {},
   "outputs": [],
   "source": [
    "result = analyze.ProcessDataArray(dataSub,\"mean\",[8,10],None,\"Nai\")"
   ]
  },
  {
   "cell_type": "code",
   "execution_count": 8,
   "metadata": {},
   "outputs": [
    {
     "name": "stdout",
     "output_type": "stream",
     "text": [
      "0.000145949183576\n"
     ]
    }
   ],
   "source": [
    "print(result)"
   ]
  },
  {
   "cell_type": "markdown",
   "metadata": {},
   "source": [
    "### Check sampler "
   ]
  },
  {
   "cell_type": "code",
   "execution_count": 9,
   "metadata": {},
   "outputs": [],
   "source": [
    "import fittingAlgorithm\n",
    "from fittingAlgorithm import outputObj\n",
    "outputListDefault = { \"Cai\":outputObj(\"Cai\",\"mean\",[800,1000],\n",
    "                       0.1),          # value you want \n",
    "                      \"Nai\":outputObj(\"Nai\",\"val_vs_time\",[  0, 200],\n",
    "                      [1,0.5,0.15],timeInterpolations=[  0,100,200]) # check that interpolated values at 0, 100, 200 are 1, 0.5 ... \n",
    "                    }\n"
   ]
  },
  {
   "cell_type": "code",
   "execution_count": 10,
   "metadata": {},
   "outputs": [
    {
     "name": "stdout",
     "output_type": "stream",
     "text": [
      "\n",
      "WARNING: In debug mode.\n",
      "Fixing random seed\n",
      "\n",
      "timeRange:  [0.0, 3.0]\n",
      "WHY is this wrapper needed\n",
      "iter 1  out of 10\n",
      "Inputs:  kon 5.0\n",
      "Using 3 cores for 3 jobs\n",
      "Should probably rescale sigma by the tolerated error vs current error and only for selected params \n",
      "Multi-threading\n",
      "Worker bee 32716, Job 2 \n",
      "Worker bee 32714, Job 0 \n",
      "Worker bee 32715, Job 1 \n",
      "result:  0.14305658358422738 truthValue:  0.1\n",
      "result:  0.003020618802043093 truthValue:  0.1\n",
      "result:  0.0008873264223266793 truthValue:  0.1\n",
      "myDataFrame: \n",
      "           Container    jobID jobNum       kon   fitness\n",
      "0_32714     0.143057  0_32714      0  0.227328  0.656175\n",
      "1_32715   0.00302062  1_32715      1   20.9052  0.984781\n",
      "2_32716  0.000887326  2_32716      2   71.7086  0.995553\n",
      "jobFitnesses:  [ 0.65617516  0.9847811   0.99555348]\n",
      "jobIndex:  0\n",
      "bestVarDict:  {'kon': 0.22732770417919937}\n",
      "currentFitness 0.656175156374\n",
      "iter 1  out of 10\n",
      "\n",
      "######\n",
      "\n",
      "iter 2  out of 10\n",
      "Inputs:  kon 0.227327704179\n",
      "Using 3 cores for 3 jobs\n",
      "Should probably rescale sigma by the tolerated error vs current error and only for selected params \n",
      "Multi-threading\n",
      "Worker bee 32727, Job 1 \n",
      "Worker bee 32728, Job 2 \n",
      "Worker bee 32726, Job 0 \n",
      "result:  0.20870982994521434 truthValue:  0.1\n",
      "result:  0.1438526005989742 truthValue:  0.1\n",
      "result:  0.08813800010543807 truthValue:  0.1\n",
      "myDataFrame: \n",
      "        Container    jobID jobNum        kon   fitness\n",
      "0_32726   0.20871  0_32726      0  0.0907491  1.042640\n",
      "1_32727  0.143853  1_32727      1    0.22491  0.662213\n",
      "2_32728  0.088138  2_32728      2   0.502078  0.344413\n",
      "jobFitnesses:  [ 1.04264006  0.66221296  0.34441254]\n",
      "jobIndex:  2\n",
      "bestVarDict:  {'kon': 0.50207786856689474}\n",
      "currentFitness 0.344412541795\n",
      "iter 2  out of 10\n",
      "\n",
      "######\n",
      "\n",
      "iter 3  out of 10\n",
      "Inputs:  kon 0.502077868567\n",
      "Using 3 cores for 3 jobs\n",
      "Should probably rescale sigma by the tolerated error vs current error and only for selected params \n",
      "Multi-threading\n",
      "Worker bee 32740, Job 2 \n",
      "Worker bee 32739, Job 1 \n",
      "Worker bee 32738, Job 0 \n",
      "result:  0.08792358558055036 truthValue:  0.1\n",
      "result:  0.08280946866514614 truthValue:  0.1\n",
      "result:  0.07546479808098235 truthValue:  0.1\n",
      "myDataFrame: \n",
      "         Container    jobID jobNum       kon   fitness\n",
      "0_32738  0.0879236  0_32738      0  0.503833  0.347511\n",
      "1_32739  0.0828095  1_32739      1  0.548408  0.414615\n",
      "2_32740  0.0754648  2_32740      2  0.623066  0.495330\n",
      "jobFitnesses:  [ 0.34751136  0.41461466  0.49533021]\n",
      "jobIndex:  0\n",
      "Old draw is better starting point, not overwriting starting point\n",
      "Rejected 1 in a row (of 3) \n",
      "iter 3  out of 10\n",
      "\n",
      "######\n",
      "\n",
      "iter 4  out of 10\n",
      "Inputs:  kon 0.502077868567\n",
      "Using 3 cores for 3 jobs\n",
      "Should probably rescale sigma by the tolerated error vs current error and only for selected params \n",
      "Multi-threading\n",
      "Worker bee 32753, Job 1 \n",
      "Worker bee 32752, Job 0 \n",
      "Worker bee 32754, Job 2 \n",
      "result:  0.0938049499091055 truthValue:  0.1\n",
      "result:  0.07498466424961732 truthValue:  0.1\n",
      "result:  0.054998989713555754 truthValue:  0.1\n",
      "myDataFrame: \n",
      "         Container    jobID jobNum       kon   fitness\n",
      "0_32752  0.0938049  0_32752      0  0.458623  0.248899\n",
      "1_32753  0.0749847  1_32753      1  0.628459  0.500153\n",
      "2_32754   0.054999  2_32754      2  0.936835  0.670828\n",
      "jobFitnesses:  [ 0.24889858  0.50015333  0.67082792]\n",
      "jobIndex:  0\n",
      "bestVarDict:  {'kon': 0.45862295153224386}\n",
      "currentFitness 0.248898575546\n",
      "iter 4  out of 10\n",
      "\n",
      "######\n",
      "\n",
      "iter 5  out of 10\n",
      "Inputs:  kon 0.458622951532\n",
      "Using 3 cores for 3 jobs\n",
      "Should probably rescale sigma by the tolerated error vs current error and only for selected params \n",
      "Multi-threading\n",
      "Worker bee 32766, Job 2 \n",
      "Worker bee 32765, Job 1 \n",
      "Worker bee 32764, Job 0 \n",
      "result:  0.11522437326445713 truthValue:  0.1\n",
      "result:  0.08905955685881388 truthValue:  0.1\n",
      "result:  0.07360860500470522 truthValue:  0.1\n",
      "myDataFrame: \n",
      "         Container    jobID jobNum       kon   fitness\n",
      "0_32764   0.115224  0_32764      0  0.333346  0.390184\n",
      "1_32765  0.0890596  1_32765      1  0.494631  0.330763\n",
      "2_32766  0.0736086  2_32766      2  0.644306  0.513726\n",
      "jobFitnesses:  [ 0.39018423  0.33076341  0.51372556]\n",
      "jobIndex:  1\n",
      "Old draw is better starting point, not overwriting starting point\n",
      "Rejected 1 in a row (of 3) \n",
      "iter 5  out of 10\n",
      "\n",
      "######\n",
      "\n",
      "iter 6  out of 10\n",
      "Inputs:  kon 0.458622951532\n",
      "Using 3 cores for 3 jobs\n",
      "Should probably rescale sigma by the tolerated error vs current error and only for selected params \n",
      "Multi-threading\n",
      "Worker bee 313, Job 0 \n",
      "Worker bee 315, Job 2 \n",
      "Worker bee 314, Job 1 \n",
      "result:  0.1097004783168216 truthValue:  0.1\n",
      "result:  0.09200027607963197 truthValue:  0.1\n",
      "result:  0.08793476234771273 truthValue:  0.1\n",
      "myDataFrame: \n",
      "       Container  jobID jobNum       kon   fitness\n",
      "0_313     0.1097  0_313      0  0.360912  0.311456\n",
      "1_314  0.0920003  1_314      1  0.471875  0.282838\n",
      "2_315  0.0879348  2_315      2  0.503741  0.347351\n",
      "jobFitnesses:  [ 0.31145591  0.28283783  0.34735051]\n",
      "jobIndex:  1\n",
      "Old draw is better starting point, not overwriting starting point\n",
      "Rejected 2 in a row (of 3) \n",
      "iter 6  out of 10\n",
      "\n",
      "######\n",
      "\n",
      "iter 7  out of 10\n",
      "Inputs:  kon 0.458622951532\n",
      "Using 3 cores for 3 jobs\n",
      "Should probably rescale sigma by the tolerated error vs current error and only for selected params \n",
      "Multi-threading\n",
      "Worker bee 327, Job 2 \n",
      "Worker bee 325, Job 0 \n",
      "Worker bee 326, Job 1 \n",
      "result:  0.1115118804024799 truthValue:  0.1\n",
      "result:  0.10328855233097517 truthValue:  0.1\n",
      "result:  0.08158619286508441 truthValue:  0.1\n",
      "myDataFrame: \n",
      "       Container  jobID jobNum       kon   fitness\n",
      "0_325   0.111512  0_325      0  0.351567  0.339292\n",
      "1_326   0.103289  1_326      1  0.396664  0.181344\n",
      "2_327  0.0815862  2_327      2  0.559905  0.429113\n",
      "jobFitnesses:  [ 0.33929162  0.18134366  0.42911312]\n",
      "jobIndex:  1\n",
      "bestVarDict:  {'kon': 0.39666445988523164}\n",
      "currentFitness 0.181343660793\n",
      "iter 7  out of 10\n",
      "\n",
      "######\n",
      "\n",
      "iter 8  out of 10\n",
      "Inputs:  kon 0.396664459885\n",
      "Using 3 cores for 3 jobs\n",
      "Should probably rescale sigma by the tolerated error vs current error and only for selected params \n",
      "Multi-threading\n",
      "Worker bee 338, Job 0 \n",
      "Worker bee 340, Job 2 \n",
      "Worker bee 339, Job 1 \n",
      "result:  0.11350943253569477 truthValue:  0.1\n",
      "result:  0.10176783826624117 truthValue:  0.1\n",
      "result:  0.09007243446027582 truthValue:  0.1\n",
      "myDataFrame: \n",
      "       Container  jobID jobNum       kon   fitness\n",
      "0_338   0.113509  0_338      0  0.341612  0.367552\n",
      "1_339   0.101768  1_339      1  0.405814  0.132960\n",
      "2_340  0.0900724  2_340      2  0.486624  0.315080\n",
      "jobFitnesses:  [ 0.3675518   0.13296008  0.3150804 ]\n",
      "jobIndex:  1\n",
      "bestVarDict:  {'kon': 0.40581365603375558}\n",
      "currentFitness 0.132960079206\n",
      "iter 8  out of 10\n",
      "\n",
      "######\n",
      "\n",
      "iter 9  out of 10\n",
      "Inputs:  kon 0.405813656034\n",
      "Using 3 cores for 3 jobs\n",
      "Should probably rescale sigma by the tolerated error vs current error and only for selected params \n",
      "Multi-threading\n",
      "Worker bee 350, Job 0 \n",
      "Worker bee 351, Job 1 \n",
      "Worker bee 352, Job 2 \n",
      "result:  0.1014081294597548 truthValue:  0.1\n",
      "result:  0.0977286245746162 truthValue:  0.1\n",
      "result:  0.09578608775774798 truthValue:  0.1\n",
      "myDataFrame: \n",
      "       Container  jobID jobNum       kon   fitness\n",
      "0_350   0.101408  0_350      0  0.408018  0.118665\n",
      "1_351  0.0977286  1_351      1  0.431514  0.150711\n",
      "2_352  0.0957861  2_352      2  0.444655  0.205278\n",
      "jobFitnesses:  [ 0.11866463  0.15071083  0.20527816]\n",
      "jobIndex:  0\n",
      "bestVarDict:  {'kon': 0.40801842400626342}\n",
      "currentFitness 0.118664630777\n",
      "iter 9  out of 10\n",
      "\n",
      "######\n",
      "\n",
      "iter 10  out of 10\n",
      "Inputs:  kon 0.408018424006\n",
      "Using 3 cores for 3 jobs\n",
      "Should probably rescale sigma by the tolerated error vs current error and only for selected params \n",
      "Multi-threading\n",
      "Worker bee 364, Job 2 \n",
      "Worker bee 363, Job 1 \n",
      "Worker bee 362, Job 0 \n",
      "result:  0.10203601094221008 truthValue:  0.1\n",
      "result:  0.09999578823660063 truthValue:  0.1\n",
      "result:  0.09820285327060875 truthValue:  0.1\n",
      "myDataFrame: \n",
      "       Container  jobID jobNum       kon   fitness\n",
      "0_362   0.102036  0_362      0   0.40418  0.142689\n",
      "1_363  0.0999958  1_363      1   0.41683  0.006490\n",
      "2_364  0.0982029  2_364      2  0.428386  0.134058\n",
      "jobFitnesses:  [ 0.14268886  0.00648981  0.1340577 ]\n",
      "jobIndex:  1\n",
      "bestVarDict:  {'kon': 0.41683033826796417}\n",
      "currentFitness 0.00648981001215\n",
      "iter 10  out of 10\n",
      "\n",
      "######\n",
      "\n",
      "Best fit parameters {'kon': 0.41683033826796417}\n",
      "Leaving!!\n",
      "Commented out Demo\n",
      "PASS!!\n"
     ]
    }
   ],
   "source": [
    "fittingAlgorithm.validation()"
   ]
  },
  {
   "cell_type": "code",
   "execution_count": 11,
   "metadata": {},
   "outputs": [],
   "source": [
    "## Spot check "
   ]
  },
  {
   "cell_type": "code",
   "execution_count": 12,
   "metadata": {},
   "outputs": [
    {
     "name": "stdout",
     "output_type": "stream",
     "text": [
      "{'kon': 5.0, 'koff': 1.0, 'bMax': 5.0, 'scale': 0.0001}\n"
     ]
    }
   ],
   "source": [
    "yamlFile = \"inputParams.yaml\"\n",
    "varDict = fittingAlgorithm.YamlToParamDict(yamlFile)\n",
    "varDict['kon'] = 5.0\n",
    "varDict['koff'] = 1.0\n",
    "print(varDict)\n",
    "bestDict = runner.simulation(varDict=varDict)"
   ]
  },
  {
   "cell_type": "code",
   "execution_count": 13,
   "metadata": {},
   "outputs": [
    {
     "data": {
      "text/plain": [
       "<matplotlib.legend.Legend at 0x7ff298529b38>"
      ]
     },
     "execution_count": 13,
     "metadata": {},
     "output_type": "execute_result"
    },
    {
     "data": {
      "image/png": "[encoded data removed]",
      "text/plain": [
       "<matplotlib.figure.Figure at 0x7ff298de3160>"
      ]
     },
     "metadata": {},
     "output_type": "display_data"
    }
   ],
   "source": [
    "data = newDict['data']\n",
    "#plt.plot(data['t'],data['Nai'])\n",
    "plt.plot(data['t'],data['Cai'])\n",
    "data = bestDict['data']\n",
    "plt.plot(data['t'],data['Cai'],label=\"best\")\n",
    "plt.legend()"
   ]
  },
  {
   "cell_type": "code",
   "execution_count": null,
   "metadata": {},
   "outputs": [],
   "source": []
  }
 ],
 "metadata": {
  "kernelspec": {
   "display_name": "Python 3",
   "language": "python",
   "name": "python3"
  },
  "language_info": {
   "codemirror_mode": {
    "name": "ipython",
    "version": 3
   },
   "file_extension": ".py",
   "mimetype": "text/x-python",
   "name": "python",
   "nbconvert_exporter": "python",
   "pygments_lexer": "ipython3",
   "version": "3.6.6"
  }
 },
 "nbformat": 4,
 "nbformat_minor": 2
}
