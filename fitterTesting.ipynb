{
 "cells": [
  {
   "cell_type": "code",
   "execution_count": 1,
   "metadata": {},
   "outputs": [],
   "source": [
    "%load_ext autoreload\n",
    "%autoreload 2\n",
    "import matplotlib.pylab as plt"
   ]
  },
  {
   "cell_type": "markdown",
   "metadata": {},
   "source": [
    "### Check runner "
   ]
  },
  {
   "cell_type": "code",
   "execution_count": 2,
   "metadata": {},
   "outputs": [],
   "source": [
    "import runner\n",
    "import fittingAlgorithm"
   ]
  },
  {
   "cell_type": "code",
   "execution_count": 3,
   "metadata": {},
   "outputs": [],
   "source": [
    "yamlFile = \"inputParams.yaml\"\n",
    "varDict = fittingAlgorithm.YamlToParamDict(yamlFile)\n",
    "varDict['kon'] = 5.0\n",
    "varDict['koff'] = 1.0\n",
    "newDict = runner.simulation(varDict=varDict)"
   ]
  },
  {
   "cell_type": "code",
   "execution_count": 4,
   "metadata": {},
   "outputs": [
    {
     "data": {
      "text/plain": [
       "<matplotlib.legend.Legend at 0x7fb636f637f0>"
      ]
     },
     "execution_count": 4,
     "metadata": {},
     "output_type": "execute_result"
    },
    {
     "data": {
      "image/png": "[encoded data removed]",
      "text/plain": [
       "<matplotlib.figure.Figure at 0x7fb637451710>"
      ]
     },
     "metadata": {},
     "output_type": "display_data"
    }
   ],
   "source": [
    "data = newDict['data']\n",
    "plt.plot(data['t'],data['Nai'],label=\"nai\")\n",
    "plt.plot(data['t'],data['Cai'],label=\"cai\")\n",
    "plt.legend()"
   ]
  },
  {
   "cell_type": "markdown",
   "metadata": {},
   "source": [
    "### CHeck main IO routines "
   ]
  },
  {
   "cell_type": "code",
   "execution_count": 5,
   "metadata": {},
   "outputs": [],
   "source": [
    "import analyze"
   ]
  },
  {
   "cell_type": "code",
   "execution_count": 6,
   "metadata": {},
   "outputs": [],
   "source": [
    "dataSub = analyze.GetData(data,\"Nai\")"
   ]
  },
  {
   "cell_type": "code",
   "execution_count": 7,
   "metadata": {},
   "outputs": [],
   "source": [
    "result = analyze.ProcessDataArray(dataSub,\"mean\",[8,10],None,\"Nai\")"
   ]
  },
  {
   "cell_type": "code",
   "execution_count": 8,
   "metadata": {},
   "outputs": [
    {
     "name": "stdout",
     "output_type": "stream",
     "text": [
      "0.000145963697871\n"
     ]
    }
   ],
   "source": [
    "print(result)"
   ]
  },
  {
   "cell_type": "markdown",
   "metadata": {},
   "source": [
    "### Check sampler "
   ]
  },
  {
   "cell_type": "code",
   "execution_count": 10,
   "metadata": {},
   "outputs": [
    {
     "name": "stdout",
     "output_type": "stream",
     "text": [
      "\n",
      "WARNING: In debug mode.\n",
      "Fixing random seed\n",
      "\n",
      "timeRange:  [0.0, 3.0]\n",
      "Generating single-variable output list\n",
      "WHY is this wrapper needed\n",
      "iter 1  out of 10\n",
      "Inputs:  kon 5.0\n",
      "Using 3 cores for 3 jobs\n",
      "Should probably rescale sigma by the tolerated error vs current error and only for selected params \n",
      "Multi-threading\n",
      "Worker bee 32285, Job 2 \n",
      "Worker bee 32284, Job 1 \n",
      "Worker bee 32283, Job 0 \n",
      "outputList:  {'Container': <fittingAlgorithm.OutputObj object at 0x7fb636ec1e48>}\n",
      "outputList:  {'Container': <fittingAlgorithm.OutputObj object at 0x7fb636ec1f28>}\n",
      "outputList:  {'Container': <fittingAlgorithm.OutputObj object at 0x7fb636d8a080>}\n",
      "result:  0.14305658358422646 truthValue:  0.1\n",
      "result:  0.0030206064429950195 truthValue:  0.1\n",
      "result:  0.0008873128386769079 truthValue:  0.1\n",
      "myDataFrame: \n",
      "           Container    jobID jobNum       kon   fitness\n",
      "0_32283     0.143057  0_32283      0  0.227328  0.656175\n",
      "1_32284   0.00302061  1_32284      1   20.9052  0.984781\n",
      "2_32285  0.000887313  2_32285      2   71.7086  0.995554\n",
      "jobFitnesses:  [ 0.65617516  0.98478116  0.99555355]\n",
      "jobIndex:  0\n",
      "bestVarDict:  {'kon': 0.22732770417919937}\n",
      "currentFitness 0.656175156374\n",
      "iter 1  out of 10\n",
      "\n",
      "######\n",
      "\n",
      "iter 2  out of 10\n",
      "Inputs:  kon 0.227327704179\n",
      "Using 3 cores for 3 jobs\n",
      "Should probably rescale sigma by the tolerated error vs current error and only for selected params \n",
      "Multi-threading\n",
      "Worker bee 32301, Job 0 \n",
      "Worker bee 32302, Job 1 \n",
      "Worker bee 32303, Job 2 \n",
      "outputList:  {'Container': <fittingAlgorithm.OutputObj object at 0x7fb636dbb358>}\n",
      "outputList:  {'Container': <fittingAlgorithm.OutputObj object at 0x7fb636dbb400>}\n",
      "outputList:  {'Container': <fittingAlgorithm.OutputObj object at 0x7fb636dbb4a8>}\n",
      "result:  0.20870983130784126 truthValue:  0.1\n",
      "result:  0.14385260059896776 truthValue:  0.1\n",
      "result:  0.08813800010543807 truthValue:  0.1\n",
      "myDataFrame: \n",
      "        Container    jobID jobNum        kon   fitness\n",
      "0_32301   0.20871  0_32301      0  0.0907491  1.042640\n",
      "1_32302  0.143853  1_32302      1    0.22491  0.662213\n",
      "2_32303  0.088138  2_32303      2   0.502078  0.344413\n",
      "jobFitnesses:  [ 1.04264007  0.66221296  0.34441254]\n",
      "jobIndex:  2\n",
      "bestVarDict:  {'kon': 0.50207786856689474}\n",
      "currentFitness 0.344412541795\n",
      "iter 2  out of 10\n",
      "\n",
      "######\n",
      "\n",
      "iter 3  out of 10\n",
      "Inputs:  kon 0.502077868567\n",
      "Using 3 cores for 3 jobs\n",
      "Should probably rescale sigma by the tolerated error vs current error and only for selected params \n",
      "Multi-threading\n",
      "Worker bee 32322, Job 2 \n",
      "outputList:  {'Container': <fittingAlgorithm.OutputObj object at 0x7fb636dc3160>}\n",
      "Worker bee 32320, Job 0 \n",
      "Worker bee 32321, Job 1 \n",
      "outputList:  {'Container': <fittingAlgorithm.OutputObj object at 0x7fb636dbbfd0>}\n",
      "outputList:  {'Container': <fittingAlgorithm.OutputObj object at 0x7fb636dc30b8>}\n",
      "result:  0.08792358558055036 truthValue:  0.1\n",
      "result:  0.08280946942479896 truthValue:  0.1\n",
      "result:  0.07546479804715149 truthValue:  0.1\n",
      "myDataFrame: \n",
      "         Container    jobID jobNum       kon   fitness\n",
      "0_32320  0.0879236  0_32320      0  0.503833  0.347511\n",
      "1_32321  0.0828095  1_32321      1  0.548408  0.414615\n",
      "2_32322  0.0754648  2_32322      2  0.623066  0.495330\n",
      "jobFitnesses:  [ 0.34751136  0.41461465  0.49533021]\n",
      "jobIndex:  0\n",
      "Old draw is better starting point, not overwriting starting point\n",
      "Rejected 1 in a row (of 3) \n",
      "iter 3  out of 10\n",
      "\n",
      "######\n",
      "\n",
      "iter 4  out of 10\n",
      "Inputs:  kon 0.502077868567\n",
      "Using 3 cores for 3 jobs\n",
      "Should probably rescale sigma by the tolerated error vs current error and only for selected params \n",
      "Multi-threading\n",
      "Worker bee 32339, Job 1 \n",
      "Worker bee 32338, Job 0 \n",
      "Worker bee 32340, Job 2 \n",
      "outputList:  {'Container': <fittingAlgorithm.OutputObj object at 0x7fb636dc30f0>}\n",
      "outputList:  {'Container': <fittingAlgorithm.OutputObj object at 0x7fb636dc3518>}\n",
      "outputList:  {'Container': <fittingAlgorithm.OutputObj object at 0x7fb636dc3ac8>}\n",
      "result:  0.0938049499091055 truthValue:  0.1\n",
      "result:  0.0749846640185074 truthValue:  0.1\n",
      "result:  0.054998989422320434 truthValue:  0.1\n",
      "myDataFrame: \n",
      "         Container    jobID jobNum       kon   fitness\n",
      "0_32338  0.0938049  0_32338      0  0.458623  0.248899\n",
      "1_32339  0.0749847  1_32339      1  0.628459  0.500153\n",
      "2_32340   0.054999  2_32340      2  0.936835  0.670828\n",
      "jobFitnesses:  [ 0.24889858  0.50015334  0.67082793]\n",
      "jobIndex:  0\n",
      "bestVarDict:  {'kon': 0.45862295153224386}\n",
      "currentFitness 0.248898575546\n",
      "iter 4  out of 10\n",
      "\n",
      "######\n",
      "\n",
      "iter 5  out of 10\n",
      "Inputs:  kon 0.458622951532\n",
      "Using 3 cores for 3 jobs\n",
      "Should probably rescale sigma by the tolerated error vs current error and only for selected params \n",
      "Multi-threading\n",
      "Worker bee 32356, Job 0 \n",
      "Worker bee 32357, Job 1 \n",
      "Worker bee 32358, Job 2 \n",
      "outputList:  {'Container': <fittingAlgorithm.OutputObj object at 0x7fb636e49748>}\n",
      "outputList:  {'Container': <fittingAlgorithm.OutputObj object at 0x7fb636e49828>}\n",
      "outputList:  {'Container': <fittingAlgorithm.OutputObj object at 0x7fb636e49198>}\n",
      "result:  0.11522437326445713 truthValue:  0.1\n",
      "result:  0.08905955685881388 truthValue:  0.1\n",
      "result:  0.07360860548146415 truthValue:  0.1\n",
      "myDataFrame: \n",
      "         Container    jobID jobNum       kon   fitness\n",
      "0_32356   0.115224  0_32356      0  0.333346  0.390184\n",
      "1_32357  0.0890596  1_32357      1  0.494631  0.330763\n",
      "2_32358  0.0736086  2_32358      2  0.644306  0.513726\n",
      "jobFitnesses:  [ 0.39018423  0.33076341  0.51372555]\n",
      "jobIndex:  1\n",
      "Old draw is better starting point, not overwriting starting point\n",
      "Rejected 1 in a row (of 3) \n",
      "iter 5  out of 10\n",
      "\n",
      "######\n",
      "\n",
      "iter 6  out of 10\n",
      "Inputs:  kon 0.458622951532\n",
      "Using 3 cores for 3 jobs\n",
      "Should probably rescale sigma by the tolerated error vs current error and only for selected params \n",
      "Multi-threading\n",
      "Worker bee 32374, Job 0 \n",
      "Worker bee 32376, Job 2 \n",
      "Worker bee 32375, Job 1 \n",
      "outputList:  {'Container': <fittingAlgorithm.OutputObj object at 0x7fb636e50400>}\n",
      "outputList:  {'Container': <fittingAlgorithm.OutputObj object at 0x7fb636e50550>}\n",
      "outputList:  {'Container': <fittingAlgorithm.OutputObj object at 0x7fb636e504a8>}\n",
      "result:  0.1097004783168216 truthValue:  0.1\n",
      "result:  0.09200027607963197 truthValue:  0.1\n",
      "result:  0.08793476234771273 truthValue:  0.1\n",
      "myDataFrame: \n",
      "         Container    jobID jobNum       kon   fitness\n",
      "0_32374     0.1097  0_32374      0  0.360912  0.311456\n",
      "1_32375  0.0920003  1_32375      1  0.471875  0.282838\n",
      "2_32376  0.0879348  2_32376      2  0.503741  0.347351\n",
      "jobFitnesses:  [ 0.31145591  0.28283783  0.34735051]\n",
      "jobIndex:  1\n",
      "Old draw is better starting point, not overwriting starting point\n",
      "Rejected 2 in a row (of 3) \n",
      "iter 6  out of 10\n",
      "\n",
      "######\n",
      "\n",
      "iter 7  out of 10\n",
      "Inputs:  kon 0.458622951532\n",
      "Using 3 cores for 3 jobs\n",
      "Should probably rescale sigma by the tolerated error vs current error and only for selected params \n",
      "Multi-threading\n",
      "Worker bee 32394, Job 2 \n",
      "Worker bee 32392, Job 0 \n",
      "Worker bee 32393, Job 1 \n",
      "outputList:  {'Container': <fittingAlgorithm.OutputObj object at 0x7fb636e50208>}\n",
      "outputList:  {'Container': <fittingAlgorithm.OutputObj object at 0x7fb636e50358>}\n",
      "outputList:  {'Container': <fittingAlgorithm.OutputObj object at 0x7fb636e502b0>}\n",
      "result:  0.1115118804024799 truthValue:  0.1\n",
      "result:  0.10328855233097517 truthValue:  0.1\n",
      "result:  0.08158619321899423 truthValue:  0.1\n",
      "myDataFrame: \n",
      "         Container    jobID jobNum       kon   fitness\n",
      "0_32392   0.111512  0_32392      0  0.351567  0.339292\n",
      "1_32393   0.103289  1_32393      1  0.396664  0.181344\n",
      "2_32394  0.0815862  2_32394      2  0.559905  0.429113\n",
      "jobFitnesses:  [ 0.33929162  0.18134366  0.42911312]\n",
      "jobIndex:  1\n",
      "bestVarDict:  {'kon': 0.39666445988523164}\n",
      "currentFitness 0.181343660793\n",
      "iter 7  out of 10\n",
      "\n",
      "######\n",
      "\n",
      "iter 8  out of 10\n",
      "Inputs:  kon 0.396664459885\n",
      "Using 3 cores for 3 jobs\n",
      "Should probably rescale sigma by the tolerated error vs current error and only for selected params \n",
      "Multi-threading\n",
      "Worker bee 32413, Job 2 \n",
      "Worker bee 32411, Job 0 \n",
      "Worker bee 32412, Job 1 \n",
      "outputList:  {'Container': <fittingAlgorithm.OutputObj object at 0x7fb636e5a9e8>}\n",
      "outputList:  {'Container': <fittingAlgorithm.OutputObj object at 0x7fb636e5a898>}\n",
      "outputList:  {'Container': <fittingAlgorithm.OutputObj object at 0x7fb636e5a940>}\n",
      "result:  0.11350943253569477 truthValue:  0.1\n",
      "result:  0.10176783826624117 truthValue:  0.1\n",
      "result:  0.09007243446027582 truthValue:  0.1\n",
      "myDataFrame: \n",
      "         Container    jobID jobNum       kon   fitness\n",
      "0_32411   0.113509  0_32411      0  0.341612  0.367552\n",
      "1_32412   0.101768  1_32412      1  0.405814  0.132960\n",
      "2_32413  0.0900724  2_32413      2  0.486624  0.315080\n",
      "jobFitnesses:  [ 0.3675518   0.13296008  0.3150804 ]\n",
      "jobIndex:  1\n",
      "bestVarDict:  {'kon': 0.40581365603375558}\n",
      "currentFitness 0.132960079206\n",
      "iter 8  out of 10\n",
      "\n",
      "######\n",
      "\n",
      "iter 9  out of 10\n",
      "Inputs:  kon 0.405813656034\n",
      "Using 3 cores for 3 jobs\n",
      "Should probably rescale sigma by the tolerated error vs current error and only for selected params \n",
      "Multi-threading\n"
     ]
    },
    {
     "name": "stdout",
     "output_type": "stream",
     "text": [
      "Worker bee 32431, Job 0 \n",
      "Worker bee 32433, Job 2 \n",
      "Worker bee 32432, Job 1 \n",
      "outputList:  {'Container': <fittingAlgorithm.OutputObj object at 0x7fb636e64048>}\n",
      "outputList:  {'Container': <fittingAlgorithm.OutputObj object at 0x7fb636e646d8>}\n",
      "outputList:  {'Container': <fittingAlgorithm.OutputObj object at 0x7fb636e645f8>}\n",
      "result:  0.1014081294597548 truthValue:  0.1\n",
      "result:  0.0977286245746162 truthValue:  0.1\n",
      "result:  0.09578608775774798 truthValue:  0.1\n",
      "myDataFrame: \n",
      "         Container    jobID jobNum       kon   fitness\n",
      "0_32431   0.101408  0_32431      0  0.408018  0.118665\n",
      "1_32432  0.0977286  1_32432      1  0.431514  0.150711\n",
      "2_32433  0.0957861  2_32433      2  0.444655  0.205278\n",
      "jobFitnesses:  [ 0.11866463  0.15071083  0.20527816]\n",
      "jobIndex:  0\n",
      "bestVarDict:  {'kon': 0.40801842400626342}\n",
      "currentFitness 0.118664630777\n",
      "iter 9  out of 10\n",
      "\n",
      "######\n",
      "\n",
      "iter 10  out of 10\n",
      "Inputs:  kon 0.408018424006\n",
      "Using 3 cores for 3 jobs\n",
      "Should probably rescale sigma by the tolerated error vs current error and only for selected params \n",
      "Multi-threading\n",
      "Worker bee 32462, Job 1 \n",
      "Worker bee 32461, Job 0 \n",
      "Worker bee 32464, Job 2 \n",
      "outputList:  {'Container': <fittingAlgorithm.OutputObj object at 0x7fb636e642b0>}\n",
      "outputList:  {'Container': <fittingAlgorithm.OutputObj object at 0x7fb636e64128>}\n",
      "outputList:  {'Container': <fittingAlgorithm.OutputObj object at 0x7fb636e64470>}\n",
      "result:  0.10203601094221008 truthValue:  0.1\n",
      "result:  0.09999578823660063 truthValue:  0.1\n",
      "result:  0.09820285327060875 truthValue:  0.1\n",
      "myDataFrame: \n",
      "         Container    jobID jobNum       kon   fitness\n",
      "0_32461   0.102036  0_32461      0   0.40418  0.142689\n",
      "1_32462  0.0999958  1_32462      1   0.41683  0.006490\n",
      "2_32464  0.0982029  2_32464      2  0.428386  0.134058\n",
      "jobFitnesses:  [ 0.14268886  0.00648981  0.1340577 ]\n",
      "jobIndex:  1\n",
      "bestVarDict:  {'kon': 0.41683033826796417}\n",
      "currentFitness 0.00648981001215\n",
      "iter 10  out of 10\n",
      "\n",
      "######\n",
      "\n",
      "Best fit parameters {'kon': 0.41683033826796417}\n",
      "Leaving!!\n",
      "Commented out Demo\n",
      "PASS!!\n"
     ]
    }
   ],
   "source": [
    "fittingAlgorithm.validation()"
   ]
  },
  {
   "cell_type": "code",
   "execution_count": 11,
   "metadata": {},
   "outputs": [],
   "source": [
    "## Spot check "
   ]
  },
  {
   "cell_type": "code",
   "execution_count": 12,
   "metadata": {},
   "outputs": [
    {
     "name": "stdout",
     "output_type": "stream",
     "text": [
      "{'kon': 5.0, 'koff': 1.0, 'bMax': 5.0, 'scale': 0.0001}\n"
     ]
    }
   ],
   "source": [
    "yamlFile = \"inputParams.yaml\"\n",
    "varDict = fittingAlgorithm.YamlToParamDict(yamlFile)\n",
    "varDict['kon'] = 5.0\n",
    "varDict['koff'] = 1.0\n",
    "print(varDict)\n",
    "bestDict = runner.simulation(varDict=varDict)"
   ]
  },
  {
   "cell_type": "code",
   "execution_count": 13,
   "metadata": {},
   "outputs": [
    {
     "data": {
      "text/plain": [
       "<matplotlib.legend.Legend at 0x7ff298529b38>"
      ]
     },
     "execution_count": 13,
     "metadata": {},
     "output_type": "execute_result"
    },
    {
     "data": {
      "image/png": "[encoded data removed]",
      "text/plain": [
       "<matplotlib.figure.Figure at 0x7ff298de3160>"
      ]
     },
     "metadata": {},
     "output_type": "display_data"
    }
   ],
   "source": [
    "data = newDict['data']\n",
    "#plt.plot(data['t'],data['Nai'])\n",
    "plt.plot(data['t'],data['Cai'])\n",
    "data = bestDict['data']\n",
    "plt.plot(data['t'],data['Cai'],label=\"best\")\n",
    "plt.legend()"
   ]
  },
  {
   "cell_type": "markdown",
   "metadata": {},
   "source": [
    "### Fitting against non-scalar data"
   ]
  },
  {
   "cell_type": "code",
   "execution_count": 24,
   "metadata": {},
   "outputs": [],
   "source": [
    "import fittingAlgorithm as fA\n",
    "from fittingAlgorithm import OutputObj\n",
    "\n",
    "# file with default parameters for model\n",
    "yamlVarFile = \"inputParams.yaml\"\n",
    "fixedParamDict = fA.YamlToParamDict(yamlVarFile)\n",
    "\n",
    "# parameters you want to vary \n",
    "variedParamList= { \n",
    "  # paramDict[myVariedParam] = [variedParamTruthVal, 0.2] # for log normal\n",
    "  #\"kon\":  [0.4,0.2],\n",
    "  \"scale\":  [1,0.2],\n",
    "} \n",
    "\n",
    "# list of observables to be scored by GA \n",
    "outputList = { \n",
    "    #\"Cai\":OutputObj(\"Cai\",\"mean\",[8,10], # in [s]\n",
    "    # 0.1),          # value you want \n",
    "    \"Nai\":OutputObj(\"Nai\",\"val_vs_time\",[  0, 2],\n",
    "    [1,0.5,0.15],timeInterpolations=[  0,1,2]) # check that interpolated values at 0, 100, 200 are 1, 0.5 ... \n",
    "}"
   ]
  },
  {
   "cell_type": "code",
   "execution_count": 25,
   "metadata": {},
   "outputs": [
    {
     "name": "stdout",
     "output_type": "stream",
     "text": [
      "<class 'numpy.ndarray'>\n",
      "<class 'numpy.ndarray'>\n"
     ]
    }
   ],
   "source": [
    "print(type(outputList[\"Nai\"].timeInterpolations))\n",
    "print(type(outputList[\"Nai\"].truthValue))"
   ]
  },
  {
   "cell_type": "code",
   "execution_count": 26,
   "metadata": {},
   "outputs": [
    {
     "name": "stdout",
     "output_type": "stream",
     "text": [
      "timeRange:  [0.0, 30.0]\n",
      "WHY is this wrapper needed\n",
      "iter 1  out of 2\n",
      "Inputs:  scale 1\n",
      "Using 3 cores for 3 jobs\n",
      "Should probably rescale sigma by the tolerated error vs current error and only for selected params \n",
      "Multi-threading\n",
      "Worker bee 3500, Job 0 \n",
      "Worker bee 3501, Job 1 \n",
      "Worker bee 3502, Job 2 \n",
      "outputList:  {'Nai': <fittingAlgorithm.OutputObj object at 0x7fb636e332b0>}\n",
      "outputList:  {'Nai': <fittingAlgorithm.OutputObj object at 0x7fb636e336a0>}\n",
      "outputList:  {'Nai': <fittingAlgorithm.OutputObj object at 0x7fb636e331d0>}\n",
      "result:  [ 1.          0.40752799  0.16727598] truthValue:  [ 1.    0.5   0.15]\n",
      "result:  [ 1.          0.34662286  0.12116992] truthValue:  [ 1.    0.5   0.15]\n",
      "result:  [ 1.          0.31595781  0.10075346] truthValue:  [ 1.    0.5   0.15]\n",
      "myDataFrame: \n",
      "                                          Nai   jobID jobNum     scale  \\\n",
      "0_3500  [1.0, 0.407527988827, 0.167275984054]  0_3500      0  0.897649   \n",
      "1_3501  [1.0, 0.346622856254, 0.121169923601]  1_3501      1   1.05952   \n",
      "2_3502   [1.0, 0.31595781257, 0.100753463704]  2_3502      2   1.15215   \n",
      "\n",
      "         fitness  \n",
      "0_3500  0.288779  \n",
      "1_3501  0.371951  \n",
      "2_3502  0.410963  \n",
      "jobFitnesses:  [ 0.28877902  0.37195106  0.41096277]\n",
      "jobIndex:  0\n",
      "bestVarDict:  {'scale': 0.89764930647476393}\n",
      "currentFitness 0.288779017234\n",
      "iter 1  out of 2\n",
      "\n",
      "######\n",
      "\n",
      "iter 2  out of 2\n",
      "Inputs:  scale 0.897649306475\n",
      "Using 3 cores for 3 jobs\n",
      "Should probably rescale sigma by the tolerated error vs current error and only for selected params \n",
      "Multi-threading\n",
      "Worker bee 3521, Job 1 \n",
      "Worker bee 3520, Job 0 \n",
      "Worker bee 3522, Job 2 \n",
      "outputList:  {'Nai': <fittingAlgorithm.OutputObj object at 0x7fb636e33fd0>}\n",
      "outputList:  {'Nai': <fittingAlgorithm.OutputObj object at 0x7fb636e3e0b8>}\n",
      "outputList:  {'Nai': <fittingAlgorithm.OutputObj object at 0x7fb636e3e160>}\n",
      "result:  [ 1.          0.39468749  0.15694105] truthValue:  [ 1.    0.5   0.15]\n",
      "result:  [ 1.          0.35427052  0.12655367] truthValue:  [ 1.    0.5   0.15]\n",
      "result:  [ 1.          0.25779187  0.0671809 ] truthValue:  [ 1.    0.5   0.15]\n",
      "myDataFrame: \n",
      "                                           Nai   jobID jobNum     scale  \\\n",
      "0_3520   [1.0, 0.394687493369, 0.156941050771]  0_3520      0  0.929665   \n",
      "1_3521   [1.0, 0.354270519815, 0.126553671793]  1_3521      1    1.0377   \n",
      "2_3522  [1.0, 0.257791873823, 0.0671809026664]  2_3522      2   1.35561   \n",
      "\n",
      "         fitness  \n",
      "0_3520  0.305877  \n",
      "1_3521  0.361730  \n",
      "2_3522  0.476360  \n",
      "jobFitnesses:  [ 0.30587653  0.36172954  0.47636   ]\n",
      "jobIndex:  0\n",
      "Old draw is better starting point, not overwriting starting point\n",
      "Rejected 1 in a row (of 3) \n",
      "iter 2  out of 2\n",
      "\n",
      "######\n",
      "\n",
      "Best fit parameters {'scale': 0.89764930647476393}\n",
      "Leaving!!\n",
      "Commented out Demo\n"
     ]
    },
    {
     "data": {
      "text/plain": [
       "{'allDraws': [array([ 0.89764931,  1.05952304,  1.15215258]),\n",
       "  array([ 0.92966489,  1.03769935,  1.35561103])],\n",
       " 'bestDraws': [{'scale': 0.89764930647476393}, {'scale': 0.89764930647476393}],\n",
       " 'bestFitDict': {'scale': 0.89764930647476393},\n",
       " 'bestFitness': 0.28877901723442673,\n",
       " 'outputList': {'Nai': <fittingAlgorithm.OutputObj at 0x7fb636e1bf28>}}"
      ]
     },
     "execution_count": 26,
     "metadata": {},
     "output_type": "execute_result"
    }
   ],
   "source": [
    "fA.run(\n",
    "    yamlVarFile=\"inputParams.yaml\",\n",
    "    variedParamDict = variedParamList,\n",
    "    outputList = outputList,\n",
    "    numRandomDraws = 3,\n",
    "    numIters = 2\n",
    "    \n",
    ")"
   ]
  },
  {
   "cell_type": "code",
   "execution_count": null,
   "metadata": {},
   "outputs": [],
   "source": []
  }
 ],
 "metadata": {
  "kernelspec": {
   "display_name": "Python 3",
   "language": "python",
   "name": "python3"
  },
  "language_info": {
   "codemirror_mode": {
    "name": "ipython",
    "version": 3
   },
   "file_extension": ".py",
   "mimetype": "text/x-python",
   "name": "python",
   "nbconvert_exporter": "python",
   "pygments_lexer": "ipython3",
   "version": "3.6.6"
  }
 },
 "nbformat": 4,
 "nbformat_minor": 2
}
