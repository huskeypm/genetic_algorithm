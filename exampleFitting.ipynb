{
 "cells": [
  {
   "cell_type": "code",
   "execution_count": 1,
   "metadata": {},
   "outputs": [],
   "source": [
    "%load_ext autoreload\n",
    "%autoreload 2"
   ]
  },
  {
   "cell_type": "markdown",
   "metadata": {},
   "source": [
    "### Import fitting algorithm "
   ]
  },
  {
   "cell_type": "code",
   "execution_count": 2,
   "metadata": {},
   "outputs": [],
   "source": [
    "import sys\n",
    "sys.path.append(\"/u2/pmke226/sources/hg/genetic_algorithm\")\n",
    "sys.path.append(\"/u2/pmke226/sources/hg/kmod\")\n",
    "sys.path.append(\"/u2/pmke226/sources/hg/\")"
   ]
  },
  {
   "cell_type": "code",
   "execution_count": 3,
   "metadata": {},
   "outputs": [],
   "source": [
    "import fittingAlgorithm as fA"
   ]
  },
  {
   "cell_type": "markdown",
   "metadata": {},
   "source": [
    "## Running the fitter.\n",
    "Largely described in the test1() routine in fittingAlgorithm.py "
   ]
  },
  {
   "cell_type": "markdown",
   "metadata": {},
   "source": [
    "### Import wrapper to your simulation engine"
   ]
  },
  {
   "cell_type": "code",
   "execution_count": 5,
   "metadata": {},
   "outputs": [],
   "source": [
    "#import wrapper\n",
    "#simulation = wrapper.Runner()\n",
    "\n",
    "import runner\n",
    "simulation = runner.Runner()"
   ]
  },
  {
   "cell_type": "markdown",
   "metadata": {},
   "source": [
    "### Define inputs\n",
    "- yaml file with default parameters (need not be complete)\n",
    "- variedParamDict (see definition below for tips)"
   ]
  },
  {
   "cell_type": "code",
   "execution_count": 6,
   "metadata": {},
   "outputs": [],
   "source": [
    "yamlVarFile = \"inputParams.yaml\"\n",
    "variedParamList= {\n",
    "  # paramDict[myVariedParam] = [variedParamTruthVal, stddev] # for log normal\n",
    "  \"kon\":  [5.0,1.0],\n",
    "}\n",
    "# list of observables to be scored by GA\n",
    "from fittingAlgorithm import OutputObj\n",
    "outputList = {\n",
    "    #\"Cai\":OutputObj(\"Cai\",\"mean\",[8,10], # in [s]\n",
    "    # 0.1),          # value you want \n",
    "    \"Nai\":OutputObj(\"Nai\",\"val_vs_time\",[  0, 2],\n",
    "    [1,0.5,0.15],timeInterpolations=[  0,1,2]) # check that interpolated values at 0, 100, 200 are 1, 0.5 ... \n",
    "}\n"
   ]
  },
  {
   "cell_type": "markdown",
   "metadata": {},
   "source": [
    "### Execute fitting algorithm by passing your simulation object to fA\n",
    "Note: \n",
    "for the time being, the fitting algorithm expects to receieve a data structure of the following format:\n",
    "\n",
    "    data = dict() # This is a nuisance, but keeping backward compatible w Gotran stuff \n",
    "    data['t'] = ts\n",
    "    data['Cai'] = ys[:,0]\n",
    "    ...\n",
    "    returnDict['data'] = data\n",
    "    return returnDict\n",
    "\n",
    "Note that we have a field for time ('t') and some field ('Cai') "
   ]
  },
  {
   "cell_type": "code",
   "execution_count": 7,
   "metadata": {},
   "outputs": [
    {
     "name": "stdout",
     "output_type": "stream",
     "text": [
      "timeRange:  [0.0, 30.0]\n",
      "WHY is this wrapper needed\n",
      "iter 1  out of 3\n",
      "Inputs:  kon 5.0\n",
      "Using 5 cores for 5 jobs\n",
      "Should probably rescale sigma by the tolerated error vs current error and only for selected params \n",
      "Multi-threading\n",
      "Worker bee 8307, Job 0 \n",
      "Worker bee 8308, Job 1 \n",
      "Worker bee 8309, Job 2 \n",
      "Worker bee 8310, Job 3 \n",
      "Worker bee 8311, Job 4 \n",
      "result:  [1.        0.3678811 0.1364234] truthValue:  [1.   0.5  0.15]\n",
      "result:  [1.        0.3678811 0.1364234] truthValue:  [1.   0.5  0.15]\n",
      "result:  [1.        0.3678811 0.1364234] truthValue:  [1.   0.5  0.15]\n",
      "result:  [1.         0.3678811  0.13642339] truthValue:  [1.   0.5  0.15]\n",
      "result:  [1.         0.36788112 0.13642339] truthValue:  [1.   0.5  0.15]\n",
      "myDataFrame: \n",
      "                                                    Nai   jobID jobNum  \\\n",
      "0_8307  [1.0, 0.36788110442719085, 0.13642339711151058]  0_8307      0   \n",
      "1_8308  [1.0, 0.36788110442660865, 0.13642340030755767]  1_8308      1   \n",
      "2_8309  [1.0, 0.36788109654631906, 0.13642340367979308]  2_8309      2   \n",
      "3_8310  [1.0, 0.36788109818764964, 0.13642339280544474]  3_8310      3   \n",
      "4_8311  [1.0, 0.36788111528140194, 0.13642338797604464]  4_8311      4   \n",
      "\n",
      "            kon  fitness  \n",
      "0_8307  1.62218  0.34313  \n",
      "1_8308  1.78876  0.34313  \n",
      "2_8309  3.85585  0.34313  \n",
      "3_8310  11.1956  0.34313  \n",
      "4_8311  14.3359  0.34313  \n",
      "jobFitnesses:  [0.34312986 0.34312986 0.34312987 0.34312987 0.34312985]\n",
      "jobIndex:  4\n",
      "bestVarDict:  {'kon': 14.335886158156546}\n",
      "currentFitness 0.34312984907141264\n",
      "iter 1  out of 3\n",
      "\n",
      "######\n",
      "\n",
      "iter 2  out of 3\n",
      "Inputs:  kon 14.335886158156546\n",
      "Using 5 cores for 5 jobs\n",
      "Should probably rescale sigma by the tolerated error vs current error and only for selected params \n",
      "Multi-threading\n",
      "Worker bee 8326, Job 0 \n",
      "Worker bee 8327, Job 1 \n",
      "Worker bee 8330, Job 4 \n",
      "Worker bee 8328, Job 2 \n",
      "Worker bee 8329, Job 3 \n",
      "result:  [1.         0.36788113 0.13642344] truthValue:  [1.   0.5  0.15]\n",
      "result:  [1.         0.36788113 0.13642346] truthValue:  [1.   0.5  0.15]\n",
      "result:  [1.         0.36788113 0.13642345] truthValue:  [1.   0.5  0.15]\n",
      "result:  [1.         0.36788115 0.13642342] truthValue:  [1.   0.5  0.15]\n",
      "result:  [1.         0.36788114 0.13642346] truthValue:  [1.   0.5  0.15]\n",
      "myDataFrame: \n",
      "                                                    Nai   jobID jobNum  \\\n",
      "0_8326   [1.0, 0.3678811325864822, 0.13642344386249883]  0_8326      0   \n",
      "1_8327  [1.0, 0.36788113351678975, 0.13642345528663938]  1_8327      1   \n",
      "2_8328  [1.0, 0.36788112896885566, 0.13642344518734906]  2_8328      2   \n",
      "3_8329  [1.0, 0.36788114853240916, 0.13642341951834686]  3_8329      3   \n",
      "4_8330  [1.0, 0.36788113712222353, 0.13642346359914984]  4_8330      4   \n",
      "\n",
      "            kon  fitness  \n",
      "0_8326  16.4931  0.34313  \n",
      "1_8327  18.7557  0.34313  \n",
      "2_8328  24.6251  0.34313  \n",
      "3_8329  35.5876  0.34313  \n",
      "4_8330  51.8953  0.34313  \n",
      "jobFitnesses:  [0.34312982 0.34312982 0.34312982 0.3431298  0.34312981]\n",
      "jobIndex:  3\n",
      "bestVarDict:  {'kon': 35.58762086238859}\n",
      "currentFitness 0.3431298021789554\n",
      "iter 2  out of 3\n",
      "\n",
      "######\n",
      "\n",
      "iter 3  out of 3\n",
      "Inputs:  kon 35.58762086238859\n",
      "Using 5 cores for 5 jobs\n",
      "Should probably rescale sigma by the tolerated error vs current error and only for selected params \n",
      "Multi-threading\n",
      "Worker bee 8344, Job 0 \n",
      "Worker bee 8345, Job 1 \n",
      "Worker bee 8347, Job 3 \n",
      "Worker bee 8348, Job 4 \n",
      "Worker bee 8346, Job 2 \n",
      "result:  [1.         0.36788111 0.13642339] truthValue:  [1.   0.5  0.15]\n",
      "result:  [1.         0.36788111 0.13642338] truthValue:  [1.   0.5  0.15]\n",
      "result:  [1.         0.36788117 0.13642347] truthValue:  [1.   0.5  0.15]\n",
      "result:  [1.         0.36788113 0.13642348] truthValue:  [1.   0.5  0.15]\n",
      "result:  [1.         0.36788114 0.13642346] truthValue:  [1.   0.5  0.15]\n",
      "myDataFrame: \n",
      "                                                   Nai   jobID jobNum  \\\n",
      "0_8344  [1.0, 0.36788110717671296, 0.1364233873744213]  0_8344      0   \n",
      "1_8345  [1.0, 0.3678811094042242, 0.13642337781831035]  1_8345      1   \n",
      "2_8346   [1.0, 0.3678811658048306, 0.1364234746577512]  2_8346      2   \n",
      "3_8347  [1.0, 0.3678811336935746, 0.13642347613918784]  3_8347      3   \n",
      "4_8348  [1.0, 0.36788113604145933, 0.1364234638162028]  4_8348      4   \n",
      "\n",
      "            kon  fitness  \n",
      "0_8344  8.71786  0.34313  \n",
      "1_8345  11.6141  0.34313  \n",
      "2_8346  21.0839  0.34313  \n",
      "3_8347  26.8049  0.34313  \n",
      "4_8348  63.7105  0.34313  \n",
      "jobFitnesses:  [0.34312986 0.34312986 0.34312977 0.34312981 0.34312981]\n",
      "jobIndex:  2\n",
      "bestVarDict:  {'kon': 21.083914445564282}\n",
      "currentFitness 0.3431297727030081\n",
      "iter 3  out of 3\n",
      "\n",
      "######\n",
      "\n",
      "Best fit parameters {'kon': 21.083914445564282}\n",
      "Leaving!!\n",
      "Running demo with new parameters for comparison against truth\n",
      "Worker bee 2142, Job 0 \n",
      "Running with these varied parameters:\n",
      "   kon 21.083914445564282\n"
     ]
    },
    {
     "data": {
      "image/png": "[encoded data removed]",
      "text/plain": [
       "<Figure size 432x288 with 1 Axes>"
      ]
     },
     "metadata": {
      "needs_background": "light"
     },
     "output_type": "display_data"
    }
   ],
   "source": [
    "outputs = fA.run(\n",
    "  simulation,\n",
    "  yamlVarFile = yamlVarFile,  \n",
    "  variedParamDict = variedParamList,\n",
    "  outputList = outputList\n",
    ")"
   ]
  },
  {
   "cell_type": "code",
   "execution_count": 8,
   "metadata": {},
   "outputs": [
    {
     "data": {
      "text/plain": [
       "{'kon': 21.083914445564282}"
      ]
     },
     "execution_count": 8,
     "metadata": {},
     "output_type": "execute_result"
    }
   ],
   "source": [
    "### TODO Should return best fit params and allow you to run w them \n",
    "outputs['bestFitDict']"
   ]
  },
  {
   "cell_type": "code",
   "execution_count": 9,
   "metadata": {},
   "outputs": [
    {
     "name": "stdout",
     "output_type": "stream",
     "text": [
      "Saved new outputfile with optimized parameters\n"
     ]
    }
   ],
   "source": [
    "fA.OutputOptimizedParams(outputs['bestFitDict'],originalYamlFile=yamlVarFile,outputYamlFile=\"outputParams.yaml\")"
   ]
  },
  {
   "cell_type": "code",
   "execution_count": null,
   "metadata": {},
   "outputs": [],
   "source": []
  }
 ],
 "metadata": {
  "kernelspec": {
   "display_name": "Python 3",
   "language": "python",
   "name": "python3"
  },
  "language_info": {
   "codemirror_mode": {
    "name": "ipython",
    "version": 3
   },
   "file_extension": ".py",
   "mimetype": "text/x-python",
   "name": "python",
   "nbconvert_exporter": "python",
   "pygments_lexer": "ipython3",
   "version": "3.6.6"
  }
 },
 "nbformat": 4,
 "nbformat_minor": 2
}
