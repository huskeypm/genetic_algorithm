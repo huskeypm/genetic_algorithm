{
 "cells": [
  {
   "cell_type": "code",
   "execution_count": 1,
   "metadata": {},
   "outputs": [],
   "source": [
    "%load_ext autoreload\n",
    "%autoreload 2"
   ]
  },
  {
   "cell_type": "markdown",
   "metadata": {},
   "source": [
    "### Import fitting algorithm "
   ]
  },
  {
   "cell_type": "code",
   "execution_count": 2,
   "metadata": {},
   "outputs": [],
   "source": [
    "import sys\n",
    "sys.path.append(\"/u2/pmke226/sources/hg/genetic_algorithm\")\n",
    "sys.path.append(\"/u2/pmke226/sources/hg/kmod\")\n",
    "sys.path.append(\"/u2/pmke226/sources/hg/\")"
   ]
  },
  {
   "cell_type": "code",
   "execution_count": 3,
   "metadata": {},
   "outputs": [],
   "source": [
    "import fittingAlgorithm as fA"
   ]
  },
  {
   "cell_type": "markdown",
   "metadata": {},
   "source": [
    "## Running the fitter.\n",
    "Largely described in the test1() routine in fittingAlgorithm.py "
   ]
  },
  {
   "cell_type": "markdown",
   "metadata": {},
   "source": [
    "### Import wrapper to your simulation engine"
   ]
  },
  {
   "cell_type": "code",
   "execution_count": 4,
   "metadata": {},
   "outputs": [],
   "source": [
    "#import wrapper\n",
    "#simulation = wrapper.Runner()\n",
    "\n",
    "import runner\n",
    "simulation = runner.Runner()"
   ]
  },
  {
   "cell_type": "markdown",
   "metadata": {},
   "source": [
    "### Define inputs\n",
    "- yaml file with default parameters (need not be complete)\n",
    "- variedParamDict (see definition below for tips)"
   ]
  },
  {
   "cell_type": "code",
   "execution_count": 5,
   "metadata": {},
   "outputs": [],
   "source": [
    "yamlVarFile = \"inputParams.yaml\"\n",
    "variedParamList= {\n",
    "  # paramDict[myVariedParam] = [variedParamTruthVal, stddev] # for log normal\n",
    "  \"kon\":  [5.0,1.0],\n",
    "}\n",
    "# list of observables to be scored by GA\n",
    "from fittingAlgorithm import OutputObj\n",
    "outputList = {\n",
    "    #\"Cai\":OutputObj(\"Cai\",\"mean\",[8,10], # in [s]\n",
    "    # 0.1),          # value you want \n",
    "    \"Nai\":OutputObj(\"Nai\",\"val_vs_time\",[  0, 2],\n",
    "    [1,0.5,0.15],timeInterpolations=[  0,1,2]) # check that interpolated values at 0, 100, 200 are 1, 0.5 ... \n",
    "}\n"
   ]
  },
  {
   "cell_type": "markdown",
   "metadata": {},
   "source": [
    "### Execute fitting algorithm by passing your simulation object to fA\n",
    "Note: \n",
    "for the time being, the fitting algorithm expects to receieve a data structure of the following format:\n",
    "\n",
    "    data = dict() # This is a nuisance, but keeping backward compatible w Gotran stuff \n",
    "    data['t'] = ts\n",
    "    data['Cai'] = ys[:,0]\n",
    "    ...\n",
    "    returnDict['data'] = data\n",
    "    return returnDict\n",
    "\n",
    "Note that we have a field for time ('t') and some field ('Cai') "
   ]
  },
  {
   "cell_type": "code",
   "execution_count": 6,
   "metadata": {},
   "outputs": [
    {
     "name": "stdout",
     "output_type": "stream",
     "text": [
      "('timeRange: ', [0.0, 30.0])\n",
      "WHY is this wrapper needed\n",
      "('iter', 1, ' out of', 3)\n",
      "('Inputs: ', 'kon', 5.0)\n",
      "Using 5 cores for 5 jobs\n",
      "Should probably rescale sigma by the tolerated error vs current error and only for selected params \n",
      "Multi-threading\n",
      "Worker bee 30474, Job 2 \n",
      "Worker bee 30472, Job 0 \n",
      "Worker bee 30473, Job 1 \n",
      "Worker bee 30475, Job 3 \n",
      "Worker bee 30476, Job 4 \n",
      "('dataSub', <analyze.empty instance at 0x7f6cf61726c8>)\n",
      "('dataSub', <analyze.empty instance at 0x7f6cf6172680>)\n",
      "('dataSub', <analyze.empty instance at 0x7f6cf6172758>)\n",
      "('dataSub', <analyze.empty instance at 0x7f6cf6172710>)\n",
      "('dataSub', <analyze.empty instance at 0x7f6cf61727a0>)\n",
      "('result: ', array([1.       , 0.3678811, 0.1364234]), 'truthValue: ', array([1.  , 0.5 , 0.15]))\n",
      "('result: ', array([1.       , 0.3678811, 0.1364234]), 'truthValue: ', array([1.  , 0.5 , 0.15]))\n",
      "('result: ', array([1.        , 0.36788113, 0.1364234 ]), 'truthValue: ', array([1.  , 0.5 , 0.15]))\n",
      "('result: ', array([1.        , 0.3678811 , 0.13642339]), 'truthValue: ', array([1.  , 0.5 , 0.15]))\n",
      "('result: ', array([1.        , 0.36788109, 0.13642346]), 'truthValue: ', array([1.  , 0.5 , 0.15]))\n",
      "myDataFrame: \n",
      "                                                     Nai    jobID jobNum  \\\n",
      "0_30472   [1.0, 0.3678811028144745, 0.13642340445874002]  0_30472      0   \n",
      "1_30473  [1.0, 0.36788110302709803, 0.13642339931852882]  1_30473      1   \n",
      "2_30474   [1.0, 0.3678811254473904, 0.13642339758440394]  2_30474      2   \n",
      "3_30475    [1.0, 0.3678810977757342, 0.1364233917535084]  3_30475      3   \n",
      "4_30476  [1.0, 0.36788108941268916, 0.13642345509159903]  4_30476      4   \n",
      "\n",
      "             kon  fitness  \n",
      "0_30472   3.1207  0.34313  \n",
      "1_30473   3.5154  0.34313  \n",
      "2_30474  5.10646  0.34313  \n",
      "3_30475  5.45938  0.34313  \n",
      "4_30476  22.4464  0.34313  \n",
      "('jobFitnesses: ', array([0.34312986, 0.34312986, 0.34312983, 0.34312987, 0.34312987]))\n",
      "('jobIndex: ', 2)\n",
      "('bestVarDict: ', {'kon': 5.106456289030856})\n",
      "('currentFitness', 0.3431298347394092)\n",
      "('iter', 1, ' out of', 3)\n",
      "\n",
      "######\n",
      "\n",
      "('iter', 2, ' out of', 3)\n",
      "('Inputs: ', 'kon', 5.106456289030856)\n",
      "Using 5 cores for 5 jobs\n",
      "Should probably rescale sigma by the tolerated error vs current error and only for selected params \n",
      "Multi-threading\n",
      "Worker bee 30501, Job 1 \n",
      "Worker bee 30502, Job 2 \n",
      "Worker bee 30500, Job 0 \n",
      "Worker bee 30504, Job 4 \n",
      "Worker bee 30503, Job 3 \n",
      "('dataSub', <analyze.empty instance at 0x7f6d2bfea3f8>)\n",
      "('dataSub', <analyze.empty instance at 0x7f6d2bfea488>)\n",
      "('dataSub', <analyze.empty instance at 0x7f6d2bfea368>)\n",
      "('dataSub', <analyze.empty instance at 0x7f6d2bfea3b0>)\n",
      "('dataSub', <analyze.empty instance at 0x7f6d2bfea440>)\n",
      "('result: ', array([1.        , 0.3678811 , 0.13642339]), 'truthValue: ', array([1.  , 0.5 , 0.15]))\n",
      "('result: ', array([1.        , 0.3678811 , 0.13642338]), 'truthValue: ', array([1.  , 0.5 , 0.15]))\n",
      "('result: ', array([1.        , 0.36788114, 0.13642337]), 'truthValue: ', array([1.  , 0.5 , 0.15]))\n",
      "('result: ', array([1.        , 0.36788111, 0.13642343]), 'truthValue: ', array([1.  , 0.5 , 0.15]))\n",
      "('result: ', array([1.        , 0.36788115, 0.13642346]), 'truthValue: ', array([1.  , 0.5 , 0.15]))\n",
      "myDataFrame: \n",
      "                                                     Nai    jobID jobNum  \\\n",
      "0_30500   [1.0, 0.3678811001418737, 0.13642338605849266]  0_30500      0   \n",
      "1_30501  [1.0, 0.36788109972440486, 0.13642338283159375]  1_30501      1   \n",
      "2_30502    [1.0, 0.367881136629884, 0.13642337436397345]  2_30502      2   \n",
      "3_30503   [1.0, 0.3678811105576024, 0.13642343486648842]  3_30503      3   \n",
      "4_30504  [1.0, 0.36788114655888504, 0.13642346149262302]  4_30504      4   \n",
      "\n",
      "             kon  fitness  \n",
      "0_30500  6.76698  0.34313  \n",
      "1_30501   7.2889  0.34313  \n",
      "2_30502  10.9108  0.34313  \n",
      "3_30503  15.6507  0.34313  \n",
      "4_30504  17.8809  0.34313  \n",
      "('jobFitnesses: ', array([0.34312987, 0.34312987, 0.34312982, 0.34312985, 0.3431298 ]))\n",
      "('jobIndex: ', 4)\n",
      "('bestVarDict: ', {'kon': 17.880868863768427})\n",
      "('currentFitness', 0.3431297991723727)\n",
      "('iter', 2, ' out of', 3)\n",
      "\n",
      "######\n",
      "\n",
      "('iter', 3, ' out of', 3)\n",
      "('Inputs: ', 'kon', 17.880868863768427)\n",
      "Using 5 cores for 5 jobs\n",
      "Should probably rescale sigma by the tolerated error vs current error and only for selected params \n",
      "Multi-threading\n",
      "Worker bee 30528, Job 0 \n",
      "Worker bee 30529, Job 1 \n",
      "Worker bee 30530, Job 2 \n",
      "Worker bee 30532, Job 4 \n",
      "('dataSub', <analyze.empty instance at 0x7f6d2bfeef80>)\n",
      "Worker bee 30531, Job 3 \n",
      "('dataSub', <analyze.empty instance at 0x7f6d2bfeef38>)\n",
      "('dataSub', <analyze.empty instance at 0x7f6d2bfeeef0>)\n",
      "('dataSub', <analyze.empty instance at 0x7f6d2bff9050>)\n",
      "('dataSub', <analyze.empty instance at 0x7f6d2bff9050>)\n",
      "('result: ', array([1.        , 0.3678811 , 0.13642338]), 'truthValue: ', array([1.  , 0.5 , 0.15]))\n",
      "('result: ', array([1.        , 0.36788109, 0.13642341]), 'truthValue: ', array([1.  , 0.5 , 0.15]))\n",
      "('result: ', array([1.        , 0.36788112, 0.13642344]), 'truthValue: ', array([1.  , 0.5 , 0.15]))\n",
      "('result: ', array([1.        , 0.36788112, 0.13642347]), 'truthValue: ', array([1.  , 0.5 , 0.15]))\n",
      "('result: ', array([1.        , 0.36788121, 0.13642348]), 'truthValue: ', array([1.  , 0.5 , 0.15]))\n",
      "myDataFrame: \n",
      "                                                     Nai    jobID jobNum  \\\n",
      "0_30528    [1.0, 0.367881100160172, 0.13642338211281357]  0_30528      0   \n",
      "1_30529  [1.0, 0.36788109452344137, 0.13642341431334906]  1_30529      1   \n",
      "2_30530    [1.0, 0.3678811172898246, 0.1364234414005878]  2_30530      2   \n",
      "3_30531  [1.0, 0.36788112127815625, 0.13642347232268506]  3_30531      3   \n",
      "4_30532   [1.0, 0.3678812098017473, 0.13642347758534737]  4_30532      4   \n",
      "\n",
      "             kon  fitness  \n",
      "0_30528  6.82064  0.34313  \n",
      "1_30529  13.5061  0.34313  \n",
      "2_30530  14.5551  0.34313  \n",
      "3_30531  18.8988  0.34313  \n",
      "4_30532   31.298  0.34313  \n",
      "('jobFitnesses: ', array([0.34312987, 0.34312987, 0.34312984, 0.34312983, 0.34312972]))\n",
      "('jobIndex: ', 4)\n",
      "('bestVarDict: ', {'kon': 31.297968769992135})\n",
      "('currentFitness', 0.3431297157805685)\n",
      "('iter', 3, ' out of', 3)\n",
      "\n",
      "######\n",
      "\n",
      "('Best fit parameters', {'kon': 31.297968769992135})\n",
      "Leaving!!\n",
      "Running demo with new parameters for comparison against truth\n",
      "Worker bee 30446, Job 0 \n",
      "Running with these varied parameters:\n",
      "('  ', 'kon', 31.297968769992135)\n"
     ]
    },
    {
     "data": {
      "image/png": "[encoded data removed]",
      "text/plain": [
       "<Figure size 432x288 with 1 Axes>"
      ]
     },
     "metadata": {
      "needs_background": "light"
     },
     "output_type": "display_data"
    }
   ],
   "source": [
    "outputs = fA.run(\n",
    "  simulation,\n",
    "  yamlVarFile = yamlVarFile,  \n",
    "  variedParamDict = variedParamList,\n",
    "  outputList = outputList\n",
    ")"
   ]
  },
  {
   "cell_type": "code",
   "execution_count": 7,
   "metadata": {},
   "outputs": [
    {
     "data": {
      "text/plain": [
       "{'kon': 31.297968769992135}"
      ]
     },
     "execution_count": 7,
     "metadata": {},
     "output_type": "execute_result"
    }
   ],
   "source": [
    "### TODO Should return best fit params and allow you to run w them \n",
    "outputs['bestFitDict']"
   ]
  },
  {
   "cell_type": "code",
   "execution_count": 8,
   "metadata": {},
   "outputs": [
    {
     "name": "stdout",
     "output_type": "stream",
     "text": [
      "Saved new outputfile with optimized parameters\n"
     ]
    }
   ],
   "source": [
    "fA.OutputOptimizedParams(outputs['bestFitDict'],originalYamlFile=yamlVarFile,outputYamlFile=\"outputParams.yaml\")"
   ]
  },
  {
   "cell_type": "code",
   "execution_count": null,
   "metadata": {},
   "outputs": [],
   "source": []
  },
  {
   "cell_type": "code",
   "execution_count": null,
   "metadata": {},
   "outputs": [],
   "source": []
  },
  {
   "cell_type": "code",
   "execution_count": null,
   "metadata": {},
   "outputs": [],
   "source": []
  },
  {
   "cell_type": "code",
   "execution_count": null,
   "metadata": {},
   "outputs": [],
   "source": []
  },
  {
   "cell_type": "code",
   "execution_count": null,
   "metadata": {},
   "outputs": [],
   "source": []
  },
  {
   "cell_type": "code",
   "execution_count": null,
   "metadata": {},
   "outputs": [],
   "source": []
  },
  {
   "cell_type": "code",
   "execution_count": null,
   "metadata": {},
   "outputs": [],
   "source": []
  },
  {
   "cell_type": "code",
   "execution_count": null,
   "metadata": {},
   "outputs": [],
   "source": []
  },
  {
   "cell_type": "code",
   "execution_count": null,
   "metadata": {},
   "outputs": [],
   "source": []
  }
 ],
 "metadata": {
  "kernelspec": {
   "display_name": "Python 3",
   "language": "python",
   "name": "python3"
  },
  "language_info": {
   "codemirror_mode": {
    "name": "ipython",
    "version": 3
   },
   "file_extension": ".py",
   "mimetype": "text/x-python",
   "name": "python",
   "nbconvert_exporter": "python",
   "pygments_lexer": "ipython3",
   "version": "3.6.8"
  }
 },
 "nbformat": 4,
 "nbformat_minor": 2
}
