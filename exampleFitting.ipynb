{
 "cells": [
  {
   "cell_type": "code",
   "execution_count": 1,
   "metadata": {},
   "outputs": [],
   "source": [
    "%load_ext autoreload\n",
    "%autoreload 2"
   ]
  },
  {
   "cell_type": "markdown",
   "metadata": {},
   "source": [
    "### Import fitting algorithm "
   ]
  },
  {
   "cell_type": "code",
   "execution_count": 14,
   "metadata": {},
   "outputs": [],
   "source": [
    "import sys\n",
    "sys.path.append(\"/u2/pmke226/sources/hg/genetic_algorithm\")\n",
    "sys.path.append(\"/u2/pmke226/sources/hg/kmod\")"
   ]
  },
  {
   "cell_type": "code",
   "execution_count": 3,
   "metadata": {},
   "outputs": [],
   "source": [
    "import fittingAlgorithm as fA"
   ]
  },
  {
   "cell_type": "markdown",
   "metadata": {},
   "source": [
    "## Running the fitter.\n",
    "Largely described in the test1() routine in fittingAlgorithm.py "
   ]
  },
  {
   "cell_type": "markdown",
   "metadata": {},
   "source": [
    "### Import wrapper to your simulation engine"
   ]
  },
  {
   "cell_type": "code",
   "execution_count": 4,
   "metadata": {},
   "outputs": [],
   "source": [
    "import wrapper"
   ]
  },
  {
   "cell_type": "code",
   "execution_count": 6,
   "metadata": {},
   "outputs": [],
   "source": [
    "simulation = wrapper.Runner()"
   ]
  },
  {
   "cell_type": "markdown",
   "metadata": {},
   "source": [
    "### Define inputs\n",
    "- yaml file with default parameters (need not be complete)\n",
    "- variedParamDict (see definition below for tips)"
   ]
  },
  {
   "cell_type": "code",
   "execution_count": 12,
   "metadata": {},
   "outputs": [],
   "source": [
    "yamlVarFile = \"inputParams.yaml\"\n",
    "variedParamList= {\n",
    "  # paramDict[myVariedParam] = [variedParamTruthVal, stddev] # for log normal\n",
    "  \"kon\":  [5.0,1.0],\n",
    "}\n",
    "# list of observables to be scored by GA\n",
    "from fittingAlgorithm import OutputObj\n",
    "outputList = {\n",
    "    #\"Cai\":OutputObj(\"Cai\",\"mean\",[8,10], # in [s]\n",
    "    # 0.1),          # value you want \n",
    "    \"Nai\":OutputObj(\"Nai\",\"val_vs_time\",[  0, 2],\n",
    "    [1,0.5,0.15],timeInterpolations=[  0,1,2]) # check that interpolated values at 0, 100, 200 are 1, 0.5 ... \n",
    "}\n"
   ]
  },
  {
   "cell_type": "markdown",
   "metadata": {},
   "source": [
    "### Execute fitting algorithm by passing your simulation object to fA\n",
    "Note: \n",
    "for the time being, the fitting algorithm expects to receieve a data structure of the following format:\n",
    "\n",
    "    data = dict() # This is a nuisance, but keeping backward compatible w Gotran stuff \n",
    "    data['t'] = ts\n",
    "    data['Cai'] = ys[:,0]\n",
    "    ...\n",
    "    returnDict['data'] = data\n",
    "    return returnDict\n",
    "\n",
    "Note that we have a field for time ('t') and some field ('Cai') "
   ]
  },
  {
   "cell_type": "code",
   "execution_count": 16,
   "metadata": {},
   "outputs": [
    {
     "name": "stdout",
     "output_type": "stream",
     "text": [
      "timeRange:  [0.0, 30.0]\n",
      "WHY is this wrapper needed\n",
      "iter 1  out of 3\n",
      "Inputs:  kon 27.7217945017\n",
      "Using 5 cores for 5 jobs\n",
      "Should probably rescale sigma by the tolerated error vs current error and only for selected params \n",
      "Multi-threading\n",
      "Worker bee 29840, Job 1 \n",
      "Worker bee 29841, Job 2 \n",
      "Worker bee 29843, Job 4 \n",
      "Worker bee 29839, Job 0 \n",
      "Worker bee 29842, Job 3 \n",
      "outputList:  {'Nai': <fittingAlgorithm.OutputObj object at 0x7f6a9f4fb908>}\n",
      "outputList:  {'Nai': <fittingAlgorithm.OutputObj object at 0x7f6a9f4fbd30>}\n",
      "outputList:  {'Nai': <fittingAlgorithm.OutputObj object at 0x7f6a9f4fbe80>}\n",
      "outputList:  {'Nai': <fittingAlgorithm.OutputObj object at 0x7f6a9f4fbc50>}\n",
      "outputList:  {'Nai': <fittingAlgorithm.OutputObj object at 0x7f6a9f4fbc18>}\n",
      "result:  [ 1.          0.36788111  0.13642341] truthValue:  [ 1.    0.5   0.15]\n",
      "result:  [ 1.          0.36788111  0.13642338] truthValue:  [ 1.    0.5   0.15]\n",
      "result:  [ 1.          0.36788111  0.13642338] truthValue:  [ 1.    0.5   0.15]\n",
      "result:  [ 1.          0.36788116  0.13642345] truthValue:  [ 1.    0.5   0.15]\n",
      "result:  [ 1.          0.36788115  0.13642344] truthValue:  [ 1.    0.5   0.15]\n",
      "myDataFrame: \n",
      "                                           Nai    jobID jobNum      kon  \\\n",
      "0_29839  [1.0, 0.367881113263, 0.136423410625]  0_29839      0  3.99586   \n",
      "1_29840  [1.0, 0.367881106031, 0.136423383738]  1_29840      1  8.22432   \n",
      "2_29841   [1.0, 0.36788110592, 0.136423384981]  2_29841      2   8.2521   \n",
      "3_29842  [1.0, 0.367881164925, 0.136423448561]  3_29842      3   20.987   \n",
      "4_29843  [1.0, 0.367881146139, 0.136423443967]  4_29843      4  71.9424   \n",
      "\n",
      "         fitness  \n",
      "0_29839  0.34313  \n",
      "1_29840  0.34313  \n",
      "2_29841  0.34313  \n",
      "3_29842  0.34313  \n",
      "4_29843  0.34313  \n",
      "jobFitnesses:  [ 0.34312985  0.34312986  0.34312986  0.34312978  0.3431298 ]\n",
      "jobIndex:  3\n",
      "bestVarDict:  {'kon': 20.986984149484137}\n",
      "currentFitness 0.34312977728\n",
      "iter 1  out of 3\n",
      "\n",
      "######\n",
      "\n",
      "iter 2  out of 3\n",
      "Inputs:  kon 20.9869841495\n",
      "Using 5 cores for 5 jobs\n",
      "Should probably rescale sigma by the tolerated error vs current error and only for selected params \n",
      "Multi-threading\n",
      "Worker bee 29879, Job 0 \n",
      "Worker bee 29883, Job 4 \n",
      "Worker bee 29882, Job 3 \n",
      "Worker bee 29880, Job 1 \n",
      "Worker bee 29881, Job 2 \n",
      "outputList:  {'Nai': <fittingAlgorithm.OutputObj object at 0x7f6a9f4d9748>}\n",
      "outputList:  {'Nai': <fittingAlgorithm.OutputObj object at 0x7f6a9f4f7a20>}\n",
      "outputList:  {'Nai': <fittingAlgorithm.OutputObj object at 0x7f6a847b9128>}\n",
      "outputList:  {'Nai': <fittingAlgorithm.OutputObj object at 0x7f6a847b91d0>}\n",
      "outputList:  {'Nai': <fittingAlgorithm.OutputObj object at 0x7f6a9f50f278>}\n",
      "result:  [ 1.          0.36788111  0.1364234 ] truthValue:  [ 1.    0.5   0.15]\n",
      "result:  [ 1.          0.36788111  0.13642341] truthValue:  [ 1.    0.5   0.15]\n",
      "result:  [ 1.          0.36788117  0.13642345] truthValue:  [ 1.    0.5   0.15]\n",
      "result:  [ 1.          0.36788118  0.13642349] truthValue:  [ 1.    0.5   0.15]\n",
      "result:  [ 1.          0.36788114  0.13642346] truthValue:  [ 1.    0.5   0.15]\n",
      "myDataFrame: \n",
      "                                           Nai    jobID jobNum      kon  \\\n",
      "0_29879  [1.0, 0.367881113681, 0.136423399853]  0_29879      0  10.0528   \n",
      "1_29880  [1.0, 0.367881111647, 0.136423405908]  1_29880      1  15.2844   \n",
      "2_29881  [1.0, 0.367881167139, 0.136423452438]  2_29881      2  21.3229   \n",
      "3_29882  [1.0, 0.367881183449, 0.136423489741]  3_29882      3  25.0433   \n",
      "4_29883  [1.0, 0.367881136128, 0.136423463034]  4_29883      4  45.9466   \n",
      "\n",
      "         fitness  \n",
      "0_29879  0.34313  \n",
      "1_29880  0.34313  \n",
      "2_29881  0.34313  \n",
      "3_29882  0.34313  \n",
      "4_29883  0.34313  \n",
      "jobFitnesses:  [ 0.34312985  0.34312985  0.34312977  0.34312975  0.34312981]\n",
      "jobIndex:  3\n",
      "bestVarDict:  {'kon': 25.043273868147846}\n",
      "currentFitness 0.343129748039\n",
      "iter 2  out of 3\n",
      "\n",
      "######\n",
      "\n",
      "iter 3  out of 3\n",
      "Inputs:  kon 25.0432738681\n",
      "Using 5 cores for 5 jobs\n",
      "Should probably rescale sigma by the tolerated error vs current error and only for selected params \n",
      "Multi-threading\n",
      "Worker bee 29911, Job 3 \n",
      "Worker bee 29913, Job 4 \n",
      "Worker bee 29909, Job 1 \n",
      "Worker bee 29908, Job 0 \n",
      "Worker bee 29910, Job 2 \n",
      "outputList:  {'Nai': <fittingAlgorithm.OutputObj object at 0x7f6a847bcb70>}\n",
      "outputList:  {'Nai': <fittingAlgorithm.OutputObj object at 0x7f6a9f4fb6d8>}\n",
      "outputList:  {'Nai': <fittingAlgorithm.OutputObj object at 0x7f6a9f4f7eb8>}\n",
      "outputList:  {'Nai': <fittingAlgorithm.OutputObj object at 0x7f6a9f4fb2b0>}\n",
      "outputList:  {'Nai': <fittingAlgorithm.OutputObj object at 0x7f6a847bcba8>}\n",
      "result:  [ 1.          0.3678811   0.13642339] truthValue:  [ 1.    0.5   0.15]\n",
      "result:  [ 1.          0.36788111  0.1364234 ] truthValue:  [ 1.    0.5   0.15]\n",
      "result:  [ 1.          0.3678811   0.13642339] truthValue:  [ 1.    0.5   0.15]\n",
      "result:  [ 1.          0.36788109  0.13642344] truthValue:  [ 1.    0.5   0.15]\n",
      "result:  [ 1.          0.36788111  0.13642342] truthValue:  [ 1.    0.5   0.15]\n",
      "myDataFrame: \n",
      "                                           Nai    jobID jobNum      kon  \\\n",
      "0_29908  [1.0, 0.367881104182, 0.136423394403]  0_29908      0  7.92632   \n",
      "1_29909  [1.0, 0.367881105814, 0.136423397772]  1_29909      1  8.48429   \n",
      "2_29910  [1.0, 0.367881100854, 0.136423394703]  2_29910      2  11.3572   \n",
      "3_29911   [1.0, 0.36788109499, 0.136423444524]  3_29911      3  24.8851   \n",
      "4_29913  [1.0, 0.367881105503, 0.136423420094]  4_29913      4   38.487   \n",
      "\n",
      "         fitness  \n",
      "0_29908  0.34313  \n",
      "1_29909  0.34313  \n",
      "2_29910  0.34313  \n",
      "3_29911  0.34313  \n",
      "4_29913  0.34313  \n",
      "jobFitnesses:  [ 0.34312986  0.34312986  0.34312987  0.34312987  0.34312986]\n",
      "jobIndex:  4\n",
      "Old draw is better starting point, not overwriting starting point\n",
      "Rejected 1 in a row (of 3) \n",
      "iter 3  out of 3\n",
      "\n",
      "######\n",
      "\n",
      "Best fit parameters {'kon': 25.043273868147846}\n",
      "Leaving!!\n",
      "Commented out Demo\n"
     ]
    }
   ],
   "source": [
    "outputs = fA.run(\n",
    "  simulation,\n",
    "  yamlVarFile = yamlVarFile,  \n",
    "  variedParamDict = variedParamList,\n",
    "  outputList = outputList\n",
    ")"
   ]
  },
  {
   "cell_type": "code",
   "execution_count": 18,
   "metadata": {},
   "outputs": [
    {
     "data": {
      "text/plain": [
       "{'kon': 25.043273868147846}"
      ]
     },
     "execution_count": 18,
     "metadata": {},
     "output_type": "execute_result"
    }
   ],
   "source": [
    "### TODO Should return best fit params and allow you to run w them \n",
    "outputs['bestFitDict']"
   ]
  },
  {
   "cell_type": "code",
   "execution_count": 22,
   "metadata": {},
   "outputs": [
    {
     "name": "stdout",
     "output_type": "stream",
     "text": [
      "{'kon': 1.0, 'koff': 1.0, 'bMax': 5.0, 'scale': 1.0}\n",
      "{'kon': 25.043273868147846, 'koff': 1.0, 'bMax': 5.0, 'scale': 1.0}\n"
     ]
    }
   ],
   "source": [
    "fA.OutputOptimizedParams(outputs['bestFitDict'],originalYamlFile=yamlVarFile,outputYamlFile=\"outputParams.yaml\")"
   ]
  },
  {
   "cell_type": "code",
   "execution_count": null,
   "metadata": {},
   "outputs": [],
   "source": []
  }
 ],
 "metadata": {
  "kernelspec": {
   "display_name": "Python 3",
   "language": "python",
   "name": "python3"
  },
  "language_info": {
   "codemirror_mode": {
    "name": "ipython",
    "version": 3
   },
   "file_extension": ".py",
   "mimetype": "text/x-python",
   "name": "python",
   "nbconvert_exporter": "python",
   "pygments_lexer": "ipython3",
   "version": "3.6.6"
  }
 },
 "nbformat": 4,
 "nbformat_minor": 2
}
